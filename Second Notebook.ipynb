{
 "cells": [
  {
   "cell_type": "code",
   "execution_count": 2,
   "metadata": {},
   "outputs": [
    {
     "name": "stdout",
     "output_type": "stream",
     "text": [
      "   age     sex  spt  fam_his_all  smoking  pet_ownership  grass_poll  \\\n",
      "0   27  Female    2            2        1              2           2   \n",
      "1   26  Female    2            1        2              2           2   \n",
      "2   20  Female    1            1        2              2           2   \n",
      "3   19  Female    2            2        2              1           2   \n",
      "4   22    Male    1            2        2              2           2   \n",
      "\n",
      "   Alternaria  birch  hazel  ...  barley  blomia  lepidoglyphus  \\\n",
      "0           2      2      2  ...       2       2              2   \n",
      "1           2      2      2  ...       2       2              2   \n",
      "2           2      2      2  ...       2       2              1   \n",
      "3           2      2      2  ...       2       2              2   \n",
      "4           2      2      2  ...       1       1              1   \n",
      "\n",
      "   cowbuffdander  platane  tree  acarus  thyrophagus  rat  aspergillus  \n",
      "0              2        2     2       2            2    2            2  \n",
      "1              2        2     2       2            2    2            2  \n",
      "2              2        2     2       2            1    2            2  \n",
      "3              2        2     2       2            2    2            2  \n",
      "4              2        2     2       1            1    2            2  \n",
      "\n",
      "[5 rows x 27 columns]\n"
     ]
    }
   ],
   "source": [
    "import pandas as pd\n",
    "data_1=pd.read_csv('/home/dpak/Documents/Jupyter codes collection/data collection/allergic rhinitis-1.csv')\n",
    "print(data_1.head())"
   ]
  },
  {
   "cell_type": "code",
   "execution_count": 3,
   "metadata": {},
   "outputs": [
    {
     "name": "stdout",
     "output_type": "stream",
     "text": [
      "     age     sex  spt  fam_his_all  smoking  pet_ownership  grass_poll  \\\n",
      "0     27  Female    2            2        1              2           2   \n",
      "1     26  Female    2            1        2              2           2   \n",
      "2     20  Female    1            1        2              2           2   \n",
      "3     19  Female    2            2        2              1           2   \n",
      "4     22    Male    1            2        2              2           2   \n",
      "..   ...     ...  ...          ...      ...            ...         ...   \n",
      "162   30  Female    2            2        2              2           2   \n",
      "163   52  Female    2            2        2              2           2   \n",
      "164   45  Female    2            2        2              2           2   \n",
      "165   27  Female    2            2        2              2           2   \n",
      "166   53  Female    2            2        2              2           2   \n",
      "\n",
      "     Alternaria  birch  hazel  ...  barley  blomia  lepidoglyphus  \\\n",
      "0             2      2      2  ...       2       2              2   \n",
      "1             2      2      2  ...       2       2              2   \n",
      "2             2      2      2  ...       2       2              1   \n",
      "3             2      2      2  ...       2       2              2   \n",
      "4             2      2      2  ...       1       1              1   \n",
      "..          ...    ...    ...  ...     ...     ...            ...   \n",
      "162           2      2      2  ...       2       2              2   \n",
      "163           2      2      2  ...       2       2              2   \n",
      "164           2      2      2  ...       2       2              2   \n",
      "165           2      2      2  ...       2       2              2   \n",
      "166           2      2      2  ...       2       2              2   \n",
      "\n",
      "     cowbuffdander  platane  tree  acarus  thyrophagus  rat  aspergillus  \n",
      "0                2        2     2       2            2    2            2  \n",
      "1                2        2     2       2            2    2            2  \n",
      "2                2        2     2       2            1    2            2  \n",
      "3                2        2     2       2            2    2            2  \n",
      "4                2        2     2       1            1    2            2  \n",
      "..             ...      ...   ...     ...          ...  ...          ...  \n",
      "162              2        2     2       2            2    2            2  \n",
      "163              2        2     2       2            2    2            2  \n",
      "164              2        2     2       2            2    2            2  \n",
      "165              2        2     2       2            2    2            2  \n",
      "166              2        2     2       2            2    2            2  \n",
      "\n",
      "[167 rows x 27 columns]\n"
     ]
    }
   ],
   "source": [
    "print(data_1)"
   ]
  },
  {
   "cell_type": "code",
   "execution_count": null,
   "metadata": {},
   "outputs": [],
   "source": []
  }
 ],
 "metadata": {
  "kernelspec": {
   "display_name": "Python 3",
   "language": "python",
   "name": "python3"
  },
  "language_info": {
   "codemirror_mode": {
    "name": "ipython",
    "version": 3
   },
   "file_extension": ".py",
   "mimetype": "text/x-python",
   "name": "python",
   "nbconvert_exporter": "python",
   "pygments_lexer": "ipython3",
   "version": "3.7.4"
  }
 },
 "nbformat": 4,
 "nbformat_minor": 2
}
